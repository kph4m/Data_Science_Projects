{
 "cells": [
  {
   "cell_type": "markdown",
   "metadata": {},
   "source": [
    "# COGS 108 - Final Project Proposal"
   ]
  },
  {
   "cell_type": "markdown",
   "metadata": {},
   "source": [
    "# Names\n",
    "\n",
    "- Khiem Pham\n",
    "- Charles Mastrangelo\n",
    "- Joseph Perez\n",
    "- Patrick Yeh\n",
    "- Riki Osawa"
   ]
  },
  {
   "cell_type": "markdown",
   "metadata": {},
   "source": [
    "# Research Question"
   ]
  },
  {
   "cell_type": "markdown",
   "metadata": {},
   "source": [
    "How did the Coronavirus pandemic playoffs in the NBA, held in a single neutral stadium with no fans, affect the home team advantage? How did these changes affect NBA play tendencies (i.e. shot type, pace, play type such as isolation/post up/pick and roll, efficiency, etc.)?"
   ]
  },
  {
   "cell_type": "markdown",
   "metadata": {},
   "source": [
    "## Background and Prior Work"
   ]
  },
  {
   "cell_type": "markdown",
   "metadata": {},
   "source": [
    "COVID-19 has affected the way sporting events are held. To adapt to the social and regulatory impositions of this pandemic, the world’s leading professional basketball league, the National Basketball Association (NBA), established an isolated venue from which games could be safely played. At this location, dubbed the “2020 NBA Bubble” (also known as the “Disney Bubble” or the “Orlando Bubble”), the NBA hosted its final games of the season, as well as its 2020 playoffs: the annual postseason games deciding the champion. The neutrality of the 2020 NBA Bubble guaranteed that participating teams would lack the “home team advantage” - the factors benefitting teams on their home courts. In our project, we seek to quantify how the absence of a home team advantage impacts the outcome of games, as well as the tactics implemented by their players.\n",
    "\n",
    "In his article for Slate, a daily web-based magazine, author Alex Kirshner aggregated research investigating the effects of COVID-19 on the home team advantage. Upon analyzing win percentages across multiple professional sporting leagues enforcing their own procedures, Kirshner concluded that as their policies increased neutrality, so too did their home team advantages diminish. With respect to the NBA, data referenced in the Slate commentary comprised the win percentages of games played inside and outside the 2020 NBA Bubble. Perhaps unsurprisingly, win percentages for designated “home” teams within the 2020 NBA Bubble ranged from 39-44% - a sharp decline from the approximately 65% chance of victory enjoyed by teams playing on home turf with fans present. While he speculates that the comforts of home, the exuberance of the crowds, and the fatigue imposed by travel upon the visiting team are among the factors that explain the phenomenon of the home team advantage, Kirshner concedes that additional research into the matter is required. Indeed, we aim to address just that; and by defining what constitutes the “home team advantage,” we will study how the effects of policies motivated by COVID-19 alters it.\n",
    "\n",
    "In their case study, Michael Price and Jun Yan from the University of Connecticut further explored the implications of COVID-19 upon home team advantage in the NBA. By comparing data from the pre-pandemic 2017-2019 playoffs with those from the 2020 NBA Bubble, they discovered improved performances by the visiting, or “away” teams. Mirroring Kirshner’s observations, Price and Yan argued that home team advantage primarily manifests through the factors negatively impacting away teams, including their need to travel, as well as to contend with unfamiliar venues and opposing fans. Furthermore, these researchers examine changes in home team strategy intended to compensate for their loss of advantage. Their findings contribute to our research by yielding insights into the nature of the home team advantage, and the specific ways in which its removal changes NBA play tendencies.\n",
    "\n",
    "\n",
    "References (include links):\n",
    "- 1) https://slate.com/culture/2021/02/coronavirus-home-field-advantage-causes-bubbles-fans-refs.html\n",
    "- 2) https://arxiv.org/pdf/2103.02832.pdf"
   ]
  },
  {
   "cell_type": "markdown",
   "metadata": {},
   "source": [
    "# Hypothesis\n"
   ]
  },
  {
   "cell_type": "markdown",
   "metadata": {},
   "source": [
    "Due to the pandemic, teams lacking a home team advantage by playing in neutral settings will be more likely to diminish in performance than away teams who will see an improvement in performance. A home team will likely be more passive and attempt fewer shots because they lose the psychological benefits from being at their home arena, either from a lack of a supportive crowd or a lack of comfort being at home. On the other hand, an away team will likely see more offensive plays, such as more pick and rolls, as they no longer have to travel as far and be less fatigued."
   ]
  },
  {
   "cell_type": "markdown",
   "metadata": {},
   "source": [
    "# Data"
   ]
  },
  {
   "cell_type": "markdown",
   "metadata": {},
   "source": [
    "To answer our questions, our ideal dataset would include individual NBA playoff game statistics such as points, assists, steals, rebounds, blocks per team in each game as well as the location (home or away) that the game took place at. Our variables would be NBA games and the aforementioned stats that arise from them. The number of observations would be found by the number of playoff games in the 2010’s as well as the NBA Playoff games in the “bubble” (playoffs during COVID). The data would be collected by the NBA and other organizations that keep track of game data for the NBA. This data would be stored in CSV or JSON files for ease of use and organized by the contexts of Playoffs pre-COVID and Playoffs during COVID. We then import them as pandas DataFrames and organize them as tidy data with rows as teams, columns as the game statistics. Then we would wrangle by creating three different data frames. The first data frame gathers the statistics for the team's home games. The second would gather those statistics for away games, and the third for neutral games. The third data frame would gather those statistics for all games during COVID. We can then analyze each data frame (average win rate, shot type, etc.) then create a final data frame where each row is home, team, and neutral game. This way we can visualize the differences between these conditions.\n",
    "\n",
    "Possible dataset: https://www.kaggle.com/wyattowalsh/basketball\n",
    "\n",
    "Parsed data set: https://github.com/ethanluoyc/statsnba-playbyplay#use-the-data\n",
    "\n",
    "The raw official data set: https://www.nba.com/stats/\n",
    "\n",
    "Possible dataset: https://www.basketball-reference.com/"
   ]
  },
  {
   "cell_type": "markdown",
   "metadata": {},
   "source": [
    "# Ethics & Privacy"
   ]
  },
  {
   "cell_type": "markdown",
   "metadata": {},
   "source": [
    "As our research question involves analysis of sports-related statistics, we do not anticipate any privacy issues or ethical concerns. Sports analytics are collected indiscriminately and the datasets we found encourage exporting and utilizing the data publicly provided. However, if there were to be discrepancies in the amount of observations from one team to the other we would look into why this is the case and assess whether any bias is present. The bias could take the form of lack of equal data regarding less popular teams compared to fan favorites. We don’t anticipate this being an issue as multiple datasets are official or utilize official statistics. When conducting our analyses, we will also need to consider the similarity between our comparisons. For example, comparing games played between two teams before and after COVID where one team is composed of entirely different players would be difficult as team composition changes over time and the comparisons would become challenging to make fair without possibly imposing biases. To address this potential issue, we will only make comparisons and utilize data where the rosters are similar before and during COVID. It’s important to note that this does not mean we will only be comparing games where the on-court players are the same as swapping out players or changing roles is a part of the evolving strategies between games."
   ]
  },
  {
   "cell_type": "markdown",
   "metadata": {},
   "source": [
    "# Team Expectations "
   ]
  },
  {
   "cell_type": "markdown",
   "metadata": {},
   "source": [
    "* *Maintain regular contact with group members via Discord.*\n",
    "* *Promptly communicate any scheduling conflicts and reach consensus about when to reschedule.*\n",
    "* *Accomplish tasks that were assigned during meetings. If not, contact others in a reasonable amount of time.*\n",
    "* *Maintain a respectful attitude toward group members. Resolve all disagreements calmly.*"
   ]
  },
  {
   "cell_type": "markdown",
   "metadata": {},
   "source": [
    "# Project Timeline Proposal"
   ]
  },
  {
   "cell_type": "markdown",
   "metadata": {},
   "source": [
    "| Meeting Date  | Meeting Time| Completed Before Meeting  | Discuss at Meeting |\n",
    "|---|---|---|---|\n",
    "| 4/20  |  7 PM | Read & Think about COGS 108 expectations; brainstorm topics/questions  | Determine best form of communication; Discuss and decide on final project topic; discuss hypothesis; begin background research | \n",
    "| 4/21  |  7 PM |  Do background research on topic, Search for datasets and plan how to utilize | Discuss ideal dataset(s), background information, research question, timeline, and expectations; draft project proposal | \n",
    "| 4/23  | 7 PM  | Final edits on project proposal and submit  | Discuss Wrangling and possible analytical approaches; Assign group members to lead each specific part   |\n",
    "| 5/9  | 12 PM  | Import & Wrangle Data: Organize, group datasets | Review/Edit wrangling/EDA; Discuss Analysis Plan   |\n",
    "| 5/18  | 7 PM  | EDA and possible further wrangling; Begin Analysis on the comparisons between pre-COVID and during | Discuss/edit Analysis; Complete project check-in |\n",
    "| 6/5  | 12 PM  | Complete analysis; Draft results/conclusion/discussion | Discuss/edit full project |\n",
    "| 6/11  | Before 11:59 PM  | NA | Turn in Final Project & Group Project Surveys |"
   ]
  }
 ],
 "metadata": {
  "kernelspec": {
   "display_name": "Python 3",
   "language": "python",
   "name": "python3"
  },
  "language_info": {
   "codemirror_mode": {
    "name": "ipython",
    "version": 3
   },
   "file_extension": ".py",
   "mimetype": "text/x-python",
   "name": "python",
   "nbconvert_exporter": "python",
   "pygments_lexer": "ipython3",
   "version": "3.7.9"
  }
 },
 "nbformat": 4,
 "nbformat_minor": 2
}